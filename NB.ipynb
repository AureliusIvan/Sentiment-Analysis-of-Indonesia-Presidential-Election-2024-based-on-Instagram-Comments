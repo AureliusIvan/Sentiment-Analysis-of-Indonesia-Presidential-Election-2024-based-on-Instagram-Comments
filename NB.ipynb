{
 "cells": [
  {
   "cell_type": "markdown",
   "metadata": {},
   "source": [
    "# Sentiment Analysis dari Instagram comments calon Presiden 2024 sebelum dan sesudah deklrasi calon wakil presiden menggunakan Naive Bayes\n",
    "\n",
    "\n",
    "## Tujuan : mengetahui perbedaan sentiment dari komentar instagram sebelum dan sesudah deklarasi calon wakil presiden\n",
    "\n",
    "\n",
    "<ul>\n",
    "    <li>\n",
    "    Aurelius Ivan Wijaya (00000054769)\n",
    "    </li>\n",
    "    <li>\n",
    "    Rajendra Abhinaya (00000060445)\n",
    "    </li>\n",
    "    <li>\n",
    "    Maecyntha Irelynn Tantra (00000055038)\n",
    "    </li>\n",
    "    <li>\n",
    "    Patricia theodora (00000054093)\n",
    "    </li>\n",
    "<ul>"
   ]
  },
  {
   "cell_type": "code",
   "execution_count": 3,
   "metadata": {},
   "outputs": [],
   "source": [
    "import pandas as pd\n",
    "import numpy as np"
   ]
  },
  {
   "cell_type": "markdown",
   "metadata": {},
   "source": [
    "# Data Collection\n",
    "\n",
    "apa sih yang sebenernya kita cari?\n",
    "* web scrapping algoritm untuk data primer (ivan)\n",
    "* labeling (pat)\n",
    "* data sekunder (mae)\n",
    "* stopword library indonesia (abhi)\n",
    "* cari jurnal referensi yang sudah, sebagai literature review (all, min 4 per person)"
   ]
  },
  {
   "cell_type": "code",
   "execution_count": 5,
   "metadata": {},
   "outputs": [
    {
     "data": {
      "text/html": [
       "<div>\n",
       "<style scoped>\n",
       "    .dataframe tbody tr th:only-of-type {\n",
       "        vertical-align: middle;\n",
       "    }\n",
       "\n",
       "    .dataframe tbody tr th {\n",
       "        vertical-align: top;\n",
       "    }\n",
       "\n",
       "    .dataframe thead th {\n",
       "        text-align: right;\n",
       "    }\n",
       "</style>\n",
       "<table border=\"1\" class=\"dataframe\">\n",
       "  <thead>\n",
       "    <tr style=\"text-align: right;\">\n",
       "      <th></th>\n",
       "      <th>Unnamed: 0</th>\n",
       "      <th>Unnamed: 1</th>\n",
       "      <th>Name</th>\n",
       "      <th>Profile ID</th>\n",
       "      <th>Date</th>\n",
       "      <th>Likes</th>\n",
       "      <th>Comment</th>\n",
       "      <th>Comment ID</th>\n",
       "      <th>Profile URL</th>\n",
       "      <th>Comment URL</th>\n",
       "    </tr>\n",
       "  </thead>\n",
       "  <tbody>\n",
       "    <tr>\n",
       "      <th>0</th>\n",
       "      <td>1</td>\n",
       "      <td>NaN</td>\n",
       "      <td>pendosa_taubat08</td>\n",
       "      <td>62424241212</td>\n",
       "      <td>2023-10-09 03:39:02</td>\n",
       "      <td>0</td>\n",
       "      <td>@lukmanjulianto56 😂😂😂 banyak yg kepanasan anak...</td>\n",
       "      <td>17931925841661066</td>\n",
       "      <td>https://www.instagram.com/pendosa_taubat08/</td>\n",
       "      <td>https://www.instagram.com/p/CwrmRJ7Brny/c/1793...</td>\n",
       "    </tr>\n",
       "    <tr>\n",
       "      <th>1</th>\n",
       "      <td>2</td>\n",
       "      <td>NaN</td>\n",
       "      <td>lukmanjulianto56</td>\n",
       "      <td>50896549192</td>\n",
       "      <td>2023-10-09 03:40:23</td>\n",
       "      <td>0</td>\n",
       "      <td>@pendosa_taubat08 minum oli dulu sana wedus wk...</td>\n",
       "      <td>18389432158039048</td>\n",
       "      <td>https://www.instagram.com/lukmanjulianto56/</td>\n",
       "      <td>https://www.instagram.com/p/CwrmRJ7Brny/c/1838...</td>\n",
       "    </tr>\n",
       "    <tr>\n",
       "      <th>2</th>\n",
       "      <td>3</td>\n",
       "      <td>NaN</td>\n",
       "      <td>maya_worldz</td>\n",
       "      <td>2265060830</td>\n",
       "      <td>2023-10-09 04:03:33</td>\n",
       "      <td>0</td>\n",
       "      <td>Tolong itu hukuman ank dri anggotaNya masa cm ...</td>\n",
       "      <td>18254988676200708</td>\n",
       "      <td>https://www.instagram.com/maya_worldz/</td>\n",
       "      <td>https://www.instagram.com/p/CwrmRJ7Brny/c/1825...</td>\n",
       "    </tr>\n",
       "    <tr>\n",
       "      <th>3</th>\n",
       "      <td>4</td>\n",
       "      <td>NaN</td>\n",
       "      <td>gilbertgrenlys</td>\n",
       "      <td>2182902614</td>\n",
       "      <td>2023-10-09 04:11:02</td>\n",
       "      <td>0</td>\n",
       "      <td>Semua org gk boleh membunuh, kecuali anak angg...</td>\n",
       "      <td>17975912540359447</td>\n",
       "      <td>https://www.instagram.com/gilbertgrenlys/</td>\n",
       "      <td>https://www.instagram.com/p/CwrmRJ7Brny/c/1797...</td>\n",
       "    </tr>\n",
       "    <tr>\n",
       "      <th>4</th>\n",
       "      <td>5</td>\n",
       "      <td>NaN</td>\n",
       "      <td>raraayu516</td>\n",
       "      <td>60836117133</td>\n",
       "      <td>2023-10-09 04:20:13</td>\n",
       "      <td>0</td>\n",
       "      <td>Makin GK ada yg milih ini mah fix🤣</td>\n",
       "      <td>17954875715671606</td>\n",
       "      <td>https://www.instagram.com/raraayu516/</td>\n",
       "      <td>https://www.instagram.com/p/CwrmRJ7Brny/c/1795...</td>\n",
       "    </tr>\n",
       "  </tbody>\n",
       "</table>\n",
       "</div>"
      ],
      "text/plain": [
       "   Unnamed: 0  Unnamed: 1              Name   Profile ID                 Date  \\\n",
       "0           1         NaN  pendosa_taubat08  62424241212  2023-10-09 03:39:02   \n",
       "1           2         NaN  lukmanjulianto56  50896549192  2023-10-09 03:40:23   \n",
       "2           3         NaN       maya_worldz   2265060830  2023-10-09 04:03:33   \n",
       "3           4         NaN    gilbertgrenlys   2182902614  2023-10-09 04:11:02   \n",
       "4           5         NaN        raraayu516  60836117133  2023-10-09 04:20:13   \n",
       "\n",
       "   Likes                                            Comment  \\\n",
       "0      0  @lukmanjulianto56 😂😂😂 banyak yg kepanasan anak...   \n",
       "1      0  @pendosa_taubat08 minum oli dulu sana wedus wk...   \n",
       "2      0  Tolong itu hukuman ank dri anggotaNya masa cm ...   \n",
       "3      0  Semua org gk boleh membunuh, kecuali anak angg...   \n",
       "4      0                 Makin GK ada yg milih ini mah fix🤣   \n",
       "\n",
       "          Comment ID                                  Profile URL  \\\n",
       "0  17931925841661066  https://www.instagram.com/pendosa_taubat08/   \n",
       "1  18389432158039048  https://www.instagram.com/lukmanjulianto56/   \n",
       "2  18254988676200708       https://www.instagram.com/maya_worldz/   \n",
       "3  17975912540359447    https://www.instagram.com/gilbertgrenlys/   \n",
       "4  17954875715671606        https://www.instagram.com/raraayu516/   \n",
       "\n",
       "                                         Comment URL  \n",
       "0  https://www.instagram.com/p/CwrmRJ7Brny/c/1793...  \n",
       "1  https://www.instagram.com/p/CwrmRJ7Brny/c/1838...  \n",
       "2  https://www.instagram.com/p/CwrmRJ7Brny/c/1825...  \n",
       "3  https://www.instagram.com/p/CwrmRJ7Brny/c/1797...  \n",
       "4  https://www.instagram.com/p/CwrmRJ7Brny/c/1795...  "
      ]
     },
     "execution_count": 5,
     "metadata": {},
     "output_type": "execute_result"
    }
   ],
   "source": [
    "# import dataest\n",
    "anies_before = pd.read_csv('./Dataset/Anies/anies_before.csv')\n",
    "anies_after = pd.read_csv('./Dataset/Anies/anies_after.csv')"
   ]
  },
  {
   "cell_type": "markdown",
   "metadata": {},
   "source": [
    "# Data Integration"
   ]
  },
  {
   "cell_type": "markdown",
   "metadata": {},
   "source": [
    "## EDA"
   ]
  },
  {
   "cell_type": "markdown",
   "metadata": {},
   "source": [
    "# Pre-Proccessing"
   ]
  },
  {
   "cell_type": "markdown",
   "metadata": {},
   "source": [
    "## Case Folding"
   ]
  },
  {
   "cell_type": "markdown",
   "metadata": {},
   "source": [
    "## Punctuation & Number & Whitespace Removal"
   ]
  },
  {
   "cell_type": "markdown",
   "metadata": {},
   "source": [
    "## Stopwords Removal\n",
    "\n",
    "* this one need research (abhi)"
   ]
  },
  {
   "cell_type": "markdown",
   "metadata": {},
   "source": [
    "## Stemming / Lemmatization\n",
    "\n",
    "* this one need research (mae)\n"
   ]
  },
  {
   "cell_type": "markdown",
   "metadata": {},
   "source": [
    "## Text Normalization / Noise Removal\n",
    "\n",
    "* this one need research (ivan)\n",
    "* slang word dataset that i used : https://github.com/nasalsabila/kamus-alay\n",
    "\n",
    "* Contoh sebelum: \"Para mahasiswa yang memperoleh nilai yang rendah dalam ujian tidak diizinkan untuk mengikuti ujian ulang.\"\n",
    "* Contoh sesudah: \"Mahasiswa yang memperoleh nilai rendah dalam ujian tidak diizinkan mengikuti ujian ulang.\""
   ]
  },
  {
   "cell_type": "code",
   "execution_count": 2,
   "metadata": {},
   "outputs": [],
   "source": [
    "import pandas as pd\n",
    "indo_slang_word = pd.read_csv('./Dataset/TextNormalization/colloquial-indonesian-lexicon.csv')\n",
    "indo_slang_word.head()\n",
    "\n",
    "def replace_slang_word(doc,slang_word):\n",
    "    for index in  range(0,len(doc)-1):\n",
    "        index_slang = slang_word.slang==doc[index]\n",
    "        formal = list(set(slang_word[index_slang].formal))\n",
    "        if len(formal)==1:\n",
    "            doc[index]=formal[0]\n",
    "    return doc"
   ]
  },
  {
   "cell_type": "markdown",
   "metadata": {},
   "source": [
    "## Tokenization\n",
    "\n",
    "* this one need research (mae)"
   ]
  },
  {
   "cell_type": "markdown",
   "metadata": {},
   "source": [
    "## Synthetic Minority Oversampling Technique (SMOTE)\n",
    "\n",
    "* this one need research (ivan)\n",
    "* Smote adalah sebuah tehnik yang digunakan terhadap data yang tidak seimbang"
   ]
  },
  {
   "cell_type": "code",
   "execution_count": 6,
   "metadata": {},
   "outputs": [],
   "source": [
    "from imblearn.over_sampling import SMOTE\n",
    "\n",
    "smote = SMOTE()\n",
    "X_train_smote, y_train_smote = smote.fit_resample(X_train_tweets_tfidf, y_train.values)\n",
    "print(X_train_smote.shape, y_train_smote.shape)\n",
    "\n",
    "# SMOTE on full training data\n",
    "smote = SMOTE()\n",
    "X_smote, y_smote = smote.fit_resample(X_tweets_tfidf, y.values)\n",
    "print(X_smote.shape, y_smote.shape)\n",
    "\n",
    "# Class Imbalance Check\n",
    "plt.pie(pd.value_counts(y_train_smote), \n",
    "        labels=['Label 0 (Positive)', 'Label 1 (Negative)'], \n",
    "        autopct='%0.1f%%')\n",
    "plt.axis('equal')\n",
    "plt.show()"
   ]
  },
  {
   "cell_type": "markdown",
   "metadata": {},
   "source": [
    "## K-Fold Cross Validation\n",
    "\n",
    "* this one need research (abhi)"
   ]
  },
  {
   "cell_type": "markdown",
   "metadata": {},
   "source": [
    "## Workload Distribution?"
   ]
  },
  {
   "cell_type": "markdown",
   "metadata": {},
   "source": [
    "# Modeling\n",
    "\n",
    "<!-- * kemungkinan Binomial Naive Bayes -->"
   ]
  },
  {
   "cell_type": "markdown",
   "metadata": {},
   "source": [
    "# Model Evaluation\n",
    "\n",
    "* this one need research (pat)"
   ]
  }
 ],
 "metadata": {
  "kernelspec": {
   "display_name": "Python 3",
   "language": "python",
   "name": "python3"
  },
  "language_info": {
   "codemirror_mode": {
    "name": "ipython",
    "version": 3
   },
   "file_extension": ".py",
   "mimetype": "text/x-python",
   "name": "python",
   "nbconvert_exporter": "python",
   "pygments_lexer": "ipython3",
   "version": "3.11.5"
  }
 },
 "nbformat": 4,
 "nbformat_minor": 2
}
