{
 "cells": [
  {
   "cell_type": "code",
   "execution_count": 4,
   "metadata": {},
   "outputs": [
    {
     "ename": "TypeError",
     "evalue": "'property' object is not callable",
     "output_type": "error",
     "traceback": [
      "\u001b[1;31m---------------------------------------------------------------------------\u001b[0m",
      "\u001b[1;31mTypeError\u001b[0m                                 Traceback (most recent call last)",
      "\u001b[1;32md:\\Perkulliahan\\Semester 5\\Machine Learning\\UAS\\Analisis-Sentimen\\instaloader.ipynb Cell 1\u001b[0m line \u001b[0;36m1\n\u001b[0;32m     <a href='vscode-notebook-cell:/d%3A/Perkulliahan/Semester%205/Machine%20Learning/UAS/Analisis-Sentimen/instaloader.ipynb#W0sZmlsZQ%3D%3D?line=9'>10</a>\u001b[0m L\u001b[39m.\u001b[39mlogin(USER, PASSWORD)        \u001b[39m# (login)\u001b[39;00m\n\u001b[0;32m     <a href='vscode-notebook-cell:/d%3A/Perkulliahan/Semester%205/Machine%20Learning/UAS/Analisis-Sentimen/instaloader.ipynb#W0sZmlsZQ%3D%3D?line=10'>11</a>\u001b[0m \u001b[39m# L.interactive_login(USER)      # (ask password on terminal)\u001b[39;00m\n\u001b[0;32m     <a href='vscode-notebook-cell:/d%3A/Perkulliahan/Semester%205/Machine%20Learning/UAS/Analisis-Sentimen/instaloader.ipynb#W0sZmlsZQ%3D%3D?line=11'>12</a>\u001b[0m \u001b[39m# L.load_session_from_file(USER) # (load session created w/\u001b[39;00m\n\u001b[0;32m     <a href='vscode-notebook-cell:/d%3A/Perkulliahan/Semester%205/Machine%20Learning/UAS/Analisis-Sentimen/instaloader.ipynb#W0sZmlsZQ%3D%3D?line=12'>13</a>\u001b[0m                                \u001b[39m#  `instaloader -l USERNAME`)\u001b[39;00m\n\u001b[1;32m   (...)\u001b[0m\n\u001b[0;32m     <a href='vscode-notebook-cell:/d%3A/Perkulliahan/Semester%205/Machine%20Learning/UAS/Analisis-Sentimen/instaloader.ipynb#W0sZmlsZQ%3D%3D?line=16'>17</a>\u001b[0m \n\u001b[0;32m     <a href='vscode-notebook-cell:/d%3A/Perkulliahan/Semester%205/Machine%20Learning/UAS/Analisis-Sentimen/instaloader.ipynb#W0sZmlsZQ%3D%3D?line=17'>18</a>\u001b[0m \u001b[39m# post = instaloader.Post.from_shortcode(L.context, \"CzSmKW-LJ4T\" )\u001b[39;00m\n\u001b[1;32m---> <a href='vscode-notebook-cell:/d%3A/Perkulliahan/Semester%205/Machine%20Learning/UAS/Analisis-Sentimen/instaloader.ipynb#W0sZmlsZQ%3D%3D?line=18'>19</a>\u001b[0m post \u001b[39m=\u001b[39m instaloader\u001b[39m.\u001b[39;49mPost\u001b[39m.\u001b[39;49mcomments(L\u001b[39m.\u001b[39;49mcontext, \u001b[39m\"\u001b[39;49m\u001b[39mCzSmKW-LJ4T\u001b[39;49m\u001b[39m\"\u001b[39;49m )\n\u001b[0;32m     <a href='vscode-notebook-cell:/d%3A/Perkulliahan/Semester%205/Machine%20Learning/UAS/Analisis-Sentimen/instaloader.ipynb#W0sZmlsZQ%3D%3D?line=19'>20</a>\u001b[0m \u001b[39m# comments = post.get_comments()\u001b[39;00m\n\u001b[0;32m     <a href='vscode-notebook-cell:/d%3A/Perkulliahan/Semester%205/Machine%20Learning/UAS/Analisis-Sentimen/instaloader.ipynb#W0sZmlsZQ%3D%3D?line=21'>22</a>\u001b[0m display(post)\n",
      "\u001b[1;31mTypeError\u001b[0m: 'property' object is not callable"
     ]
    }
   ],
   "source": [
    "import instaloader\n",
    "\n",
    "# Get instance\n",
    "L = instaloader.Instaloader()\n",
    "\n",
    "\n",
    "USER = \"uts.machinelearning\"\n",
    "PASSWORD = \"MachineUTS23$\"\n",
    "# Optionally, login or load session\n",
    "L.login(USER, PASSWORD)        # (login)\n",
    "# L.interactive_login(USER)      # (ask password on terminal)\n",
    "# L.load_session_from_file(USER) # (load session created w/\n",
    "                               #  `instaloader -l USERNAME`)\n",
    "\n",
    "\n",
    "# Obtain comments from a post\n",
    "\n",
    "# post = instaloader.Post.from_shortcode(L.context, \"CzSmKW-LJ4T\" )\n",
    "post = instaloader.Post.comments(L.context, \"CzSmKW-LJ4T\" )\n",
    "# comments = post.get_comments()\n",
    "\n",
    "display(post)\n",
    "# # Print all comments\n",
    "# for comment in comments:\n",
    "#     print(comment.owner.username + \": \" + comment.text)"
   ]
  }
 ],
 "metadata": {
  "kernelspec": {
   "display_name": "Python 3",
   "language": "python",
   "name": "python3"
  },
  "language_info": {
   "codemirror_mode": {
    "name": "ipython",
    "version": 3
   },
   "file_extension": ".py",
   "mimetype": "text/x-python",
   "name": "python",
   "nbconvert_exporter": "python",
   "pygments_lexer": "ipython3",
   "version": "3.11.5"
  }
 },
 "nbformat": 4,
 "nbformat_minor": 2
}
