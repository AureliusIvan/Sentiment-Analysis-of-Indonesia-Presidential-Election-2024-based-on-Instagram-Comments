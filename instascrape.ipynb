{
 "cells": [
  {
   "cell_type": "code",
   "execution_count": 47,
   "metadata": {},
   "outputs": [],
   "source": [
    "import pandas as pd\n",
    "import time\n",
    "import re\n",
    "import os\n",
    "import csv\n",
    "import json\n",
    "from urllib.request import urlopen\n",
    "from urllib.parse import quote_plus\n",
    "from bs4 import BeautifulSoup\n",
    "from selenium import webdriver\n",
    "from selenium.webdriver.common.by import By"
   ]
  },
  {
   "cell_type": "code",
   "execution_count": 48,
   "metadata": {},
   "outputs": [],
   "source": [
    "driver = webdriver.Firefox()\n",
    "\n",
    "# link to the post you want to scrap comments from (This is Kim Kardashian's Instagram URL)\n",
    "url = \"https://www.instagram.com/p/CyH66JESPEQ/\"\n",
    "# Driver will access to the URL\n",
    "driver.get(url)"
   ]
  },
  {
   "cell_type": "code",
   "execution_count": 49,
   "metadata": {},
   "outputs": [
    {
     "data": {
      "text/plain": [
       "'d:\\\\Perkulliahan\\\\Semester 5\\\\Machine Learning\\\\UAS\\\\Analisis-Sentimen'"
      ]
     },
     "execution_count": 49,
     "metadata": {},
     "output_type": "execute_result"
    }
   ],
   "source": [
    "os.getcwd()"
   ]
  },
  {
   "cell_type": "code",
   "execution_count": 50,
   "metadata": {},
   "outputs": [],
   "source": [
    "comments = []"
   ]
  },
  {
   "cell_type": "code",
   "execution_count": 51,
   "metadata": {},
   "outputs": [],
   "source": [
    "hasLoadMore = True\n",
    "while hasLoadMore:\n",
    "    time.sleep(1)\n",
    "    try:\n",
    "        if driver.find_element_by_css_selector('#react-root > section > main > div > div > article > div.eo2As > div.EtaWk > ul > li > div > button > span'):\n",
    "            driver.find_element_by_css_selector('#react-root > section > main > div > div > article > div.eo2As > div.EtaWk > ul > li > div > button > span').click()\n",
    "    except:\n",
    "        hasLoadMore = False"
   ]
  },
  {
   "cell_type": "code",
   "execution_count": 1,
   "metadata": {},
   "outputs": [
    {
     "ename": "ImportError",
     "evalue": "cannot import name 'Tristate' from 'instaloader' (c:\\Users\\Aurel\\AppData\\Local\\Programs\\Python\\Python311\\Lib\\site-packages\\instaloader\\__init__.py)",
     "output_type": "error",
     "traceback": [
      "\u001b[1;31m---------------------------------------------------------------------------\u001b[0m",
      "\u001b[1;31mImportError\u001b[0m                               Traceback (most recent call last)",
      "\u001b[1;32md:\\Perkulliahan\\Semester 5\\Machine Learning\\UAS\\Analisis-Sentimen\\instascrape.ipynb Cell 6\u001b[0m line \u001b[0;36m8\n\u001b[0;32m      <a href='vscode-notebook-cell:/d%3A/Perkulliahan/Semester%205/Machine%20Learning/UAS/Analisis-Sentimen/instascrape.ipynb#X11sZmlsZQ%3D%3D?line=4'>5</a>\u001b[0m download_profilepic \u001b[39m=\u001b[39m \u001b[39mFalse\u001b[39;00m\n\u001b[0;32m      <a href='vscode-notebook-cell:/d%3A/Perkulliahan/Semester%205/Machine%20Learning/UAS/Analisis-Sentimen/instascrape.ipynb#X11sZmlsZQ%3D%3D?line=5'>6</a>\u001b[0m track_profile_id \u001b[39m=\u001b[39m \u001b[39mFalse\u001b[39;00m\n\u001b[1;32m----> <a href='vscode-notebook-cell:/d%3A/Perkulliahan/Semester%205/Machine%20Learning/UAS/Analisis-Sentimen/instascrape.ipynb#X11sZmlsZQ%3D%3D?line=7'>8</a>\u001b[0m \u001b[39mfrom\u001b[39;00m \u001b[39minstaloader\u001b[39;00m \u001b[39mimport\u001b[39;00m Instaloader, Tristate\n\u001b[0;32m      <a href='vscode-notebook-cell:/d%3A/Perkulliahan/Semester%205/Machine%20Learning/UAS/Analisis-Sentimen/instascrape.ipynb#X11sZmlsZQ%3D%3D?line=8'>9</a>\u001b[0m \u001b[39mfrom\u001b[39;00m \u001b[39mdatetime\u001b[39;00m \u001b[39mimport\u001b[39;00m datetime\n\u001b[0;32m     <a href='vscode-notebook-cell:/d%3A/Perkulliahan/Semester%205/Machine%20Learning/UAS/Analisis-Sentimen/instascrape.ipynb#X11sZmlsZQ%3D%3D?line=9'>10</a>\u001b[0m \u001b[39mfrom\u001b[39;00m \u001b[39mtyping\u001b[39;00m \u001b[39mimport\u001b[39;00m Any, Dict, Optional, Tuple\n",
      "\u001b[1;31mImportError\u001b[0m: cannot import name 'Tristate' from 'instaloader' (c:\\Users\\Aurel\\AppData\\Local\\Programs\\Python\\Python311\\Lib\\site-packages\\instaloader\\__init__.py)"
     ]
    }
   ],
   "source": [
    "login_name = \"uts.machinelearning\"\n",
    "profiles = [\"profile1\", \"profile2\", \"profile3\"]\n",
    "download_captions = True\n",
    "download_comments = True\n",
    "download_profilepic = False\n",
    "track_profile_id = False\n",
    "\n",
    "from instaloader import Instaloader, Tristate\n",
    "from datetime import datetime\n",
    "from typing import Any, Dict, Optional, Tuple\n",
    "from contextlib import contextmanager\n",
    "\n",
    "\n",
    "class InstaloaderCommentsOnly(Instaloader):\n",
    "    def download_pic(self, filename: str, url: str, mtime: datetime, filename_suffix: Optional[str] = None) -> bool:\n",
    "        return True\n",
    "\n",
    "    def download_profilepic(self, name: str, url: str) -> None:\n",
    "        if download_profilepic:\n",
    "            super().download_profilepic(name, url)\n",
    "\n",
    "    def check_profile_id(self, profile: str, profile_metadata: Optional[Dict[str, Any]] = None) -> Tuple[str, int]:\n",
    "        if track_profile_id:\n",
    "            return super().check_profile_id(profile, profile_metadata)\n",
    "        return profile, 0\n",
    "\n",
    "    @contextmanager\n",
    "    def anonymous_copy(self):\n",
    "        new_loader = InstaloaderCommentsOnly(self.sleep, self.quiet, self.user_agent,\n",
    "                                             self.dirname_pattern, self.filename_pattern,\n",
    "                                             self.download_videos, self.download_geotags,\n",
    "                                             self.save_captions, self.download_comments,\n",
    "                                             self.save_metadata, self.max_connection_attempts)\n",
    "        new_loader.previous_queries = self.previous_queries\n",
    "        yield new_loader\n",
    "        self.error_log.extend(new_loader.error_log)\n",
    "        self.previous_queries = new_loader.previous_queries\n",
    "\n",
    "\n",
    "loader = InstaloaderCommentsOnly(sleep=True, quiet=False, download_videos=Tristate.never, download_geotags=Tristate.never,\n",
    "                                 save_captions=Tristate.always if download_captions else Tristate.never,\n",
    "                                 download_comments=Tristate.always if download_comments else Tristate.never)\n",
    "\n",
    "loader.main(profilelist=profiles, username=login_name.lower())"
   ]
  },
  {
   "cell_type": "code",
   "execution_count": 52,
   "metadata": {},
   "outputs": [],
   "source": [
    "# users_list = []\n",
    "# users = driver.find_elements_by_class_name('_6lAjh')\n",
    "# for user in users:\n",
    "#     users_list.append(user.text)\n",
    "    \n",
    "# i = 0\n",
    "# texts_list = []\n",
    "# texts = driver.find_elements_by_css_selector('#react-root > section > main > div > div > article > div.eo2As > div.EtaWk > ul > ul > div > li > div > div > div.C4VMK > span')\n",
    "# for txt in texts:\n",
    "#     texts_list.append(txt.text)\n",
    "#     i += 1\n",
    "#     comments_count = len(users_list)\n",
    "\n",
    "# for i in range(1, comments_count):\n",
    "#     user = users_list[i]\n",
    "#     text = texts_list[i]\n",
    "#     comments.append(users_list[i])\n",
    "#     comments.append(texts_list[i])\n",
    "#     print(\"User \",user)\n",
    "#     print(\"Text \",text)\n",
    "#     print()"
   ]
  },
  {
   "cell_type": "code",
   "execution_count": 53,
   "metadata": {},
   "outputs": [
    {
     "ename": "IndexError",
     "evalue": "pop from empty list",
     "output_type": "error",
     "traceback": [
      "\u001b[1;31m---------------------------------------------------------------------------\u001b[0m",
      "\u001b[1;31mIndexError\u001b[0m                                Traceback (most recent call last)",
      "\u001b[1;32md:\\Perkulliahan\\Semester 5\\Machine Learning\\UAS\\Analisis-Sentimen\\instascrape.ipynb Cell 7\u001b[0m line \u001b[0;36m1\n\u001b[0;32m      <a href='vscode-notebook-cell:/d%3A/Perkulliahan/Semester%205/Machine%20Learning/UAS/Analisis-Sentimen/instascrape.ipynb#X10sZmlsZQ%3D%3D?line=8'>9</a>\u001b[0m     user_names\u001b[39m.\u001b[39mappend(name)\n\u001b[0;32m     <a href='vscode-notebook-cell:/d%3A/Perkulliahan/Semester%205/Machine%20Learning/UAS/Analisis-Sentimen/instascrape.ipynb#X10sZmlsZQ%3D%3D?line=9'>10</a>\u001b[0m     user_comments\u001b[39m.\u001b[39mappend(content)\n\u001b[1;32m---> <a href='vscode-notebook-cell:/d%3A/Perkulliahan/Semester%205/Machine%20Learning/UAS/Analisis-Sentimen/instascrape.ipynb#X10sZmlsZQ%3D%3D?line=11'>12</a>\u001b[0m user_names\u001b[39m.\u001b[39;49mpop(\u001b[39m0\u001b[39;49m)\n\u001b[0;32m     <a href='vscode-notebook-cell:/d%3A/Perkulliahan/Semester%205/Machine%20Learning/UAS/Analisis-Sentimen/instascrape.ipynb#X10sZmlsZQ%3D%3D?line=12'>13</a>\u001b[0m user_comments\u001b[39m.\u001b[39mpop(\u001b[39m0\u001b[39m)\n\u001b[0;32m     <a href='vscode-notebook-cell:/d%3A/Perkulliahan/Semester%205/Machine%20Learning/UAS/Analisis-Sentimen/instascrape.ipynb#X10sZmlsZQ%3D%3D?line=13'>14</a>\u001b[0m \u001b[39mprint\u001b[39m(user_names)\n",
      "\u001b[1;31mIndexError\u001b[0m: pop from empty list"
     ]
    }
   ],
   "source": [
    "user_names = []\n",
    "user_comments = []\n",
    "comment = driver.find_elements(By.CLASS_NAME,'_a9ym')\n",
    "for c in comment:\n",
    "    container = c.find_element(By.CLASS_NAME,'_a9zr')\n",
    "    name = container.find_element(By.CLASS_NAME,'_a9zc').text\n",
    "    content = container.find_element(By.TAG_NAME,'span').text\n",
    "    content = content.replace('\\n', ' ').strip().rstrip()\n",
    "    user_names.append(name)\n",
    "    user_comments.append(content)\n",
    "\n",
    "user_names.pop(0)\n",
    "user_comments.pop(0)\n",
    "print(user_names)\n",
    "print(user_comments)"
   ]
  },
  {
   "cell_type": "code",
   "execution_count": null,
   "metadata": {},
   "outputs": [],
   "source": []
  }
 ],
 "metadata": {
  "kernelspec": {
   "display_name": "Python 3",
   "language": "python",
   "name": "python3"
  },
  "language_info": {
   "codemirror_mode": {
    "name": "ipython",
    "version": 3
   },
   "file_extension": ".py",
   "mimetype": "text/x-python",
   "name": "python",
   "nbconvert_exporter": "python",
   "pygments_lexer": "ipython3",
   "version": "3.11.5"
  }
 },
 "nbformat": 4,
 "nbformat_minor": 2
}
