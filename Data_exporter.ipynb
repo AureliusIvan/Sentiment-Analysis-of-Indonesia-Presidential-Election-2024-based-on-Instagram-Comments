{
 "cells": [
  {
   "cell_type": "code",
   "execution_count": 60,
   "metadata": {},
   "outputs": [],
   "source": [
    "from selenium import webdriver\n",
    "import time\n",
    "import sys\n",
    "from selenium.webdriver.common.by import By\n",
    "\n",
    "driver = webdriver.Firefox()\n",
    "\n",
    "url=\"https://www.instagram.com/\"\n",
    "\n",
    "driver.get(url) \n"
   ]
  },
  {
   "cell_type": "code",
   "execution_count": 61,
   "metadata": {},
   "outputs": [],
   "source": [
    "time.sleep (2)\n",
    "\n",
    "\"\"\"\n",
    "On the first project of me which we entered Twitter without using password,we use XPaths of\n",
    "elements but in Instagram,when we refresh our website,id number of login url changes so we need\n",
    "to use something different to use that link through Python Selenium. Either we can choose class name\n",
    "or name selectors to use that.\n",
    "\"\"\"\n",
    "username=driver.find_element(By.NAME,\"username\")\n",
    "username.send_keys ('uts.machinelearning')\n",
    "\n",
    "password =driver.find_element (By.NAME,\"password\")\n",
    "password.send_keys('MachineUTS23$')\n",
    "password.submit()\n",
    "\n",
    "time.sleep(10)\n"
   ]
  },
  {
   "cell_type": "code",
   "execution_count": 62,
   "metadata": {},
   "outputs": [
    {
     "name": "stdout",
     "output_type": "stream",
     "text": [
      "--stdin=9008\n"
     ]
    }
   ],
   "source": [
    "# print (driver.current_url)\n",
    "print (sys.argv[2])"
   ]
  },
  {
   "cell_type": "code",
   "execution_count": 63,
   "metadata": {},
   "outputs": [
    {
     "name": "stdout",
     "output_type": "stream",
     "text": [
      "Message: Unable to locate element: /html/body/div[2]/div/div/div[2]/div/div/div/div[1]/div[1]/div[2]/section/main/div/div[1]/div/div[2]/div/div[2]/div/div/ul/li/div/button; For documentation on this error, please visit: https://www.selenium.dev/documentation/webdriver/troubleshooting/errors#no-such-element-exception\n",
      "Stacktrace:\n",
      "RemoteError@chrome://remote/content/shared/RemoteError.sys.mjs:8:8\n",
      "WebDriverError@chrome://remote/content/shared/webdriver/Errors.sys.mjs:189:5\n",
      "NoSuchElementError@chrome://remote/content/shared/webdriver/Errors.sys.mjs:507:5\n",
      "dom.find/</<@chrome://remote/content/shared/DOM.sys.mjs:132:16\n",
      "\n"
     ]
    },
    {
     "ename": "AttributeError",
     "evalue": "'WebDriver' object has no attribute 'find_elements_by_class_name'",
     "output_type": "error",
     "traceback": [
      "\u001b[1;31m---------------------------------------------------------------------------\u001b[0m",
      "\u001b[1;31mAttributeError\u001b[0m                            Traceback (most recent call last)",
      "\u001b[1;32md:\\Perkulliahan\\Semester 5\\Machine Learning\\UAS\\Analisis-Sentimen\\Data_exporter.ipynb Cell 4\u001b[0m line \u001b[0;36m2\n\u001b[0;32m     <a href='vscode-notebook-cell:/d%3A/Perkulliahan/Semester%205/Machine%20Learning/UAS/Analisis-Sentimen/Data_exporter.ipynb#W3sZmlsZQ%3D%3D?line=22'>23</a>\u001b[0m user_names \u001b[39m=\u001b[39m []\n\u001b[0;32m     <a href='vscode-notebook-cell:/d%3A/Perkulliahan/Semester%205/Machine%20Learning/UAS/Analisis-Sentimen/Data_exporter.ipynb#W3sZmlsZQ%3D%3D?line=23'>24</a>\u001b[0m user_comments \u001b[39m=\u001b[39m []\n\u001b[1;32m---> <a href='vscode-notebook-cell:/d%3A/Perkulliahan/Semester%205/Machine%20Learning/UAS/Analisis-Sentimen/Data_exporter.ipynb#W3sZmlsZQ%3D%3D?line=24'>25</a>\u001b[0m comment \u001b[39m=\u001b[39m driver\u001b[39m.\u001b[39;49mfind_elements_by_class_name(\u001b[39m'\u001b[39m\u001b[39mC4VMK\u001b[39m\u001b[39m'\u001b[39m)\n\u001b[0;32m     <a href='vscode-notebook-cell:/d%3A/Perkulliahan/Semester%205/Machine%20Learning/UAS/Analisis-Sentimen/Data_exporter.ipynb#W3sZmlsZQ%3D%3D?line=25'>26</a>\u001b[0m \u001b[39mfor\u001b[39;00m c \u001b[39min\u001b[39;00m comment:\n\u001b[0;32m     <a href='vscode-notebook-cell:/d%3A/Perkulliahan/Semester%205/Machine%20Learning/UAS/Analisis-Sentimen/Data_exporter.ipynb#W3sZmlsZQ%3D%3D?line=26'>27</a>\u001b[0m     container \u001b[39m=\u001b[39m c\u001b[39m.\u001b[39mfind_element_by_class_name(\u001b[39m'\u001b[39m\u001b[39m_6lAjh\u001b[39m\u001b[39m'\u001b[39m)\n",
      "\u001b[1;31mAttributeError\u001b[0m: 'WebDriver' object has no attribute 'find_elements_by_class_name'"
     ]
    }
   ],
   "source": [
    "driver.get(\"https://www.instagram.com/p/CyhjkzZI1S5/\")\n",
    "\n",
    "time.sleep(4)\n",
    "\n",
    "\n",
    "# load \"sys.argv[2]\" comments \n",
    "try:\n",
    "    load_more_comment = driver.find_element(By.XPATH,'/html/body/div[2]/div/div/div[2]/div/div/div/div[1]/div[1]/div[2]/section/main/div/div[1]/div/div[2]/div/div[2]/div/div/ul/li/div/button')\n",
    "    print(\"Found {}\".format(str(load_more_comment)))\n",
    "    i = 0\n",
    "    while load_more_comment.is_displayed() and i < int(sys.argv[2]):\n",
    "        load_more_comment.click()\n",
    "        time.sleep(7)\n",
    "        load_more_comment = driver.find_element(By.XPATH,'/html/body/div[2]/div/div/div[2]/div/div/div/div[1]/div[1]/div[2]/section/main/div/div[1]/div/div[2]/div/div[2]/div/div/ul/li/div/button')\n",
    "        print(i)\n",
    "        print(\"Found {}\".format(str(load_more_comment)))\n",
    "        i += 1\n",
    "except Exception as e:\n",
    "    print(e)\n",
    "    pass\n",
    "\n",
    "# get all comment\n",
    "user_names = []\n",
    "user_comments = []\n",
    "comment = driver.find_elements_by_class_name('C4VMK')\n",
    "for c in comment:\n",
    "    container = c.find_element_by_class_name('_6lAjh')\n",
    "    name = container.find_element_by_class_name('FPmhX').text\n",
    "    content = container.find_element_by_tag_name('span').text\n",
    "    content = content.replace('\\n', ' ').strip().rstrip()\n",
    "    user_names.append(name)\n",
    "    user_comments.append(content)"
   ]
  },
  {
   "cell_type": "code",
   "execution_count": null,
   "metadata": {},
   "outputs": [],
   "source": []
  },
  {
   "cell_type": "code",
   "execution_count": null,
   "metadata": {},
   "outputs": [],
   "source": [
    "import pandas as pd\n",
    "from pandas import ExcelWriter\n",
    "import os.path\n",
    "\n",
    "def export(names, comments):\n",
    "    fname = 'comments.xlsx'\n",
    "    temp = {}\n",
    "    temp_names = []\n",
    "    temp_comments = []\n",
    "    # if os.path.isfile(fname):\n",
    "    #     saved = pd.read_excel(fname)\n",
    "    #     temp_names.extend(saved['name'])\n",
    "    #     temp_comments.extend(saved['comment'])\n",
    "    # temp_names.extend(names)\n",
    "    # temp_comments.extend(comments)\n",
    "    temp.update({'name': names, 'comment': comments})\n",
    "    df = pd.DataFrame(temp)\n",
    "\n",
    "\n",
    "\n",
    "    df.to_csv(fname, index=False)\n",
    "\n",
    "export(user_names, user_comments)"
   ]
  },
  {
   "cell_type": "code",
   "execution_count": null,
   "metadata": {},
   "outputs": [],
   "source": [
    "driver.close()"
   ]
  }
 ],
 "metadata": {
  "kernelspec": {
   "display_name": "Python 3",
   "language": "python",
   "name": "python3"
  },
  "language_info": {
   "codemirror_mode": {
    "name": "ipython",
    "version": 3
   },
   "file_extension": ".py",
   "mimetype": "text/x-python",
   "name": "python",
   "nbconvert_exporter": "python",
   "pygments_lexer": "ipython3",
   "version": "3.11.5"
  }
 },
 "nbformat": 4,
 "nbformat_minor": 2
}
