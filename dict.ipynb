{
 "cells": [
  {
   "cell_type": "code",
   "execution_count": 43,
   "metadata": {},
   "outputs": [],
   "source": [
    "import pandas as pd "
   ]
  },
  {
   "cell_type": "code",
   "execution_count": 44,
   "metadata": {},
   "outputs": [],
   "source": [
    "# lexicon  = pd.read_csv('./Dataset/TextNormalization/colloquial-indonesian-lexicon.csv')\n",
    "\n",
    "# # only pick the \"slang\" and \"formal\" columns\n",
    "# lexicon = lexicon.dropna()\n",
    "# lexicon = lexicon.reset_index(drop=True)\n",
    "# # only pick the \"slang\" and \"formal\" columns\n",
    "# lexicon = lexicon[['slang','formal']]\n",
    "# lexicon.head()\n",
    "# # save to csv file\n",
    "# lexicon.to_csv('./Dataset/TextNormalization/lexicon.csv', index=False)"
   ]
  },
  {
   "cell_type": "code",
   "execution_count": 45,
   "metadata": {},
   "outputs": [
    {
     "data": {
      "text/html": [
       "<div>\n",
       "<style scoped>\n",
       "    .dataframe tbody tr th:only-of-type {\n",
       "        vertical-align: middle;\n",
       "    }\n",
       "\n",
       "    .dataframe tbody tr th {\n",
       "        vertical-align: top;\n",
       "    }\n",
       "\n",
       "    .dataframe thead th {\n",
       "        text-align: right;\n",
       "    }\n",
       "</style>\n",
       "<table border=\"1\" class=\"dataframe\">\n",
       "  <thead>\n",
       "    <tr style=\"text-align: right;\">\n",
       "      <th></th>\n",
       "      <th>slang</th>\n",
       "      <th>formal</th>\n",
       "    </tr>\n",
       "  </thead>\n",
       "  <tbody>\n",
       "    <tr>\n",
       "      <th>0</th>\n",
       "      <td>22nya</td>\n",
       "      <td>dua-duanya</td>\n",
       "    </tr>\n",
       "    <tr>\n",
       "      <th>1</th>\n",
       "      <td>aaaaaaakkk</td>\n",
       "      <td>ah</td>\n",
       "    </tr>\n",
       "    <tr>\n",
       "      <th>2</th>\n",
       "      <td>aaaaahhhh</td>\n",
       "      <td>ah</td>\n",
       "    </tr>\n",
       "    <tr>\n",
       "      <th>3</th>\n",
       "      <td>aaaammmiiiinnnn</td>\n",
       "      <td>amin</td>\n",
       "    </tr>\n",
       "    <tr>\n",
       "      <th>4</th>\n",
       "      <td>aaahh</td>\n",
       "      <td>ah</td>\n",
       "    </tr>\n",
       "  </tbody>\n",
       "</table>\n",
       "</div>"
      ],
      "text/plain": [
       "             slang      formal\n",
       "0            22nya  dua-duanya\n",
       "1       aaaaaaakkk          ah\n",
       "2        aaaaahhhh          ah\n",
       "3  aaaammmiiiinnnn        amin\n",
       "4            aaahh          ah"
      ]
     },
     "execution_count": 45,
     "metadata": {},
     "output_type": "execute_result"
    }
   ],
   "source": [
    "import pandas as pd\n",
    "\n",
    "# remove duplicate rows from collumn \"slang\" and sort by \"slang\"\n",
    "lexicon = pd.read_csv('./Dataset/TextNormalization/lexicon.csv')\n",
    "lexicon = lexicon.drop_duplicates(subset=['slang'])\n",
    "lexicon = lexicon.sort_values(by=['slang'])\n",
    "lexicon = lexicon.reset_index(drop=True)\n",
    "lexicon.head()"
   ]
  },
  {
   "cell_type": "code",
   "execution_count": 46,
   "metadata": {},
   "outputs": [],
   "source": [
    "lexicon.to_csv('./Dataset/TextNormalization/lexiconclean.csv', index=False)"
   ]
  }
 ],
 "metadata": {
  "kernelspec": {
   "display_name": "Python 3",
   "language": "python",
   "name": "python3"
  },
  "language_info": {
   "codemirror_mode": {
    "name": "ipython",
    "version": 3
   },
   "file_extension": ".py",
   "mimetype": "text/x-python",
   "name": "python",
   "nbconvert_exporter": "python",
   "pygments_lexer": "ipython3",
   "version": "3.11.5"
  }
 },
 "nbformat": 4,
 "nbformat_minor": 2
}
